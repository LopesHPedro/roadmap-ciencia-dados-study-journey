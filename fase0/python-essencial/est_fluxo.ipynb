{
 "cells": [
  {
   "cell_type": "markdown",
   "id": "0ac45588",
   "metadata": {},
   "source": [
    "# Estruturas de Controle de Fluxo\n",
    "\n",
    "## Condicionais (if/elif/else)\n",
    "\n",
    "### Regras e Conceitos Resumidos\n",
    "- **`if`:** Executa um bloco de código se uma condição for verdeira.\n",
    "- **`elif` (else if):** Verifica uma nova condição se a condição if anterior for false.\n",
    "- **`else`:** Executa um bloco de código se nenhuma das condições if ou elif anteriores for verdadeira. É opcional e deve ser o último.\n",
    "\n",
    "#### Exemplos Práticos"
   ]
  },
  {
   "cell_type": "code",
   "execution_count": 1,
   "id": "480e6e22",
   "metadata": {},
   "outputs": [
    {
     "name": "stdout",
     "output_type": "stream",
     "text": [
      "Você é maior de idade\n",
      "\n",
      "O número é par.\n",
      "\n",
      "Conceito B\n",
      "\n",
      "Acesso de usuário comum.\n"
     ]
    }
   ],
   "source": [
    "# Exemplo 1: Concional Simples\n",
    "idade = 18\n",
    "\n",
    "if idade >= 18:\n",
    "    print('Você é maior de idade')\n",
    "print()\n",
    "\n",
    "# Exemplo 2: Condicional com else\n",
    "numero = 10\n",
    "\n",
    "if numero % 2 == 0:\n",
    "    print('O número é par.')\n",
    "else:\n",
    "    print('O número é ímpar.')\n",
    "print()\n",
    "\n",
    "# Exemplo 3: Condicional com elif\n",
    "nota = 75\n",
    "\n",
    "if nota >= 90:\n",
    "    print('Conceito A')\n",
    "elif nota >= 70:\n",
    "    print('Conceito B')\n",
    "elif nota >= 50:\n",
    "    print('Conceito C')\n",
    "else:\n",
    "    print('Conceito D')\n",
    "print()\n",
    "\n",
    "# Exemplo 4: Condicionais Aninhadas\n",
    "usuario_ativo = True\n",
    "permissao_admin = False\n",
    "\n",
    "if usuario_ativo:\n",
    "    if permissao_admin:\n",
    "        print('Acesso total de administrador.')\n",
    "    else:\n",
    "        print('Acesso de usuário comum.')\n",
    "else:\n",
    "    print('Usuário inativo. Acesso negado.')"
   ]
  },
  {
   "cell_type": "markdown",
   "id": "aca9374e",
   "metadata": {},
   "source": [
    "## Laços (for/while)\n",
    "\n",
    "### Regras e Conceitos Resumidos\n",
    "- **`for`:** Usado para iterar sobre uma sequência (listas, tuplas, strings, dicionários, etc.) ou outro objetos iteráveis.\n",
    "    - **`range()`:** Função comum para gerar sequências numéricas em laços for.\n",
    "- **`while`:** Executa um bloco de código repetidamente enquanto uma condição for verdadeira.\n",
    "    - **Cuidado:** Evite laços infinitos garantindo que a condição se torne falsa em algum momento.\n",
    "- **`break`:** Interrompe a execução do laço imediatamente.\n",
    "- **`continue`:** Pula a iteração atual e continua para a próxima iteração do laço.\n",
    "\n",
    "#### Exemplos Práticos"
   ]
  },
  {
   "cell_type": "code",
   "execution_count": 2,
   "id": "13c4fcd2",
   "metadata": {},
   "outputs": [
    {
     "name": "stdout",
     "output_type": "stream",
     "text": [
      "maça\n",
      "banana\n",
      "morango\n",
      "\n",
      "0\n",
      "1\n",
      "2\n",
      "3\n",
      "4\n",
      "\n",
      "Contador: 0\n",
      "Contador: 1\n",
      "Contador: 2\n",
      "\n",
      "0\n",
      "1\n",
      "2\n",
      "3\n",
      "4\n",
      "Encontrei o 5, parando o laço.\n",
      "\n",
      "0\n",
      "1\n",
      "Pulando o 2.\n",
      "3\n",
      "4\n"
     ]
    }
   ],
   "source": [
    "# Exemplo 1: Laço for com lista\n",
    "frutas = ['maça', 'banana', 'morango']\n",
    "for fruta in frutas:\n",
    "    print(fruta)\n",
    "print() # Um espaço de uma linha entre os exemplos\n",
    "\n",
    "# Exemplo 2: Laço for com range()\n",
    "for i in range(5): # Imprime de 0 a 4\n",
    "    print(i)\n",
    "print()\n",
    "\n",
    "# Exemplo 3: Laço while\n",
    "contador = 0\n",
    "while contador < 3:\n",
    "    print(f'Contador: {contador}')\n",
    "    contador += 1\n",
    "print()\n",
    "\n",
    "# Exemplo 4: Laço for com break\n",
    "for numero in range(10):\n",
    "    if numero == 5:\n",
    "        print('Encontrei o 5, parando o laço.')\n",
    "        break\n",
    "    print(numero)\n",
    "print()\n",
    "\n",
    "# Exemplo 5: Laço for com continue\n",
    "for i in range(5):\n",
    "    if i == 2:\n",
    "        print('Pulando o 2.')\n",
    "        continue\n",
    "    print(i)"
   ]
  }
 ],
 "metadata": {
  "kernelspec": {
   "display_name": "base",
   "language": "python",
   "name": "python3"
  },
  "language_info": {
   "codemirror_mode": {
    "name": "ipython",
    "version": 3
   },
   "file_extension": ".py",
   "mimetype": "text/x-python",
   "name": "python",
   "nbconvert_exporter": "python",
   "pygments_lexer": "ipython3",
   "version": "3.9.13"
  }
 },
 "nbformat": 4,
 "nbformat_minor": 5
}
