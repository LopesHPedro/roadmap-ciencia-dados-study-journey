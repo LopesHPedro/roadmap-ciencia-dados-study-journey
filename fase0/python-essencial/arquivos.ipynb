{
 "cells": [
  {
   "cell_type": "markdown",
   "id": "a9ea76d9",
   "metadata": {},
   "source": [
    "# Manipulação de Arquivos\n",
    "\n",
    "## Leitura de Arquivos\n",
    "\n",
    "### Regras e Conceitos Resumidos\n",
    "- **Abrir Arquivo:** Use a função `open()` para abrir um arquivo. O primeiro argumento é o caminho do arquivo e o segundo é o modo (`'r'` para leitura, `'w'` para escrita, `'a'` para anexar, etc.).\n",
    "- **Modo de Leitura(`'r'`):**  Abre o arquivo para leitura. Se o arquivo não existir, um `FileNotFoundError` será gerado.\n",
    "- **`with open(...) as f:`:** É a forma recomendada de abrir arquivos. Garante que o arquivo seja automaticamente fechado, mesmo que ocorram erros.\n",
    "- **Métodos de Leitura:**\n",
    "    - `read()`: Lê o conteúdo completo do arquivo com uma única string.\n",
    "    - `readline()`: Lê uma única linha do arquivo.\n",
    "    - `.readlines()`: Lê todas as linhas do arquivo e as retorna como uma lista de strings.\n",
    "    - Iterar diretamente sobre o objeto arquivo: Percorre o arquivo linha por linha, de forma eficiente.\n",
    "\n",
    "#### Exemplos Práticos"
   ]
  },
  {
   "cell_type": "code",
   "execution_count": 11,
   "id": "5666bc97",
   "metadata": {},
   "outputs": [
    {
     "name": "stdout",
     "output_type": "stream",
     "text": [
      "\n",
      "Conteúdo completo do arquivo:\n",
      "Primeira linha.\n",
      "Segunda linha.\n",
      "Terceira linha.\n",
      "\n",
      "\n",
      "Lendo linha por linha:\n",
      "Primeira linha.\n",
      "Segunda linha.\n",
      "\n",
      "\n",
      "Lendo todas as linhas em uma lista:\n",
      "Primeira linha.\n",
      "Segunda linha.\n",
      "Terceira linha.\n",
      "\n",
      "Iterando sobre o arquivo:\n",
      "Primeira linha.\n",
      "Segunda linha.\n",
      "Terceira linha.\n"
     ]
    }
   ],
   "source": [
    "# Criar um arquivo de exemplo para leitura\n",
    "with open('exemplo_leitura.txt', 'w') as f:\n",
    "    f.write('Primeira linha.\\n')\n",
    "    f.write('Segunda linha.\\n')\n",
    "    f.write('Terceira linha.\\n')\n",
    "\n",
    "# Exemplo 1: Ler o arquivo inteiro\n",
    "with open('exemplo_leitura.txt', 'r') as f:\n",
    "    conteudo = f.read()\n",
    "    print('\\nConteúdo completo do arquivo:')\n",
    "    print(conteudo)\n",
    "\n",
    "# Exemplo 2: Ler linha por linha\n",
    "with open('exemplo_leitura.txt', 'r') as f:\n",
    "    print('\\nLendo linha por linha:')\n",
    "    linha1 = f.readline()\n",
    "    linha2 = f.readline()\n",
    "    print(linha1.strip()) # .strip() remove o \\n do final da linha\n",
    "    print(linha2)\n",
    " \n",
    "# Exemplo 3: Ler todas as linhas em uma lista\n",
    "with open('exemplo_leitura.txt', 'r') as f:\n",
    "    linhas = f.readlines()\n",
    "    print('\\nLendo todas as linhas em uma lista:')\n",
    "    for linha in linhas:\n",
    "        print(linha.strip())\n",
    "print()    \n",
    "\n",
    "# Exemplo 4: Iterar diretamente sobre o arquivo (mais eficiente para arquivos grandes)\n",
    "with open('exemplo_leitura.txt', 'r') as f:\n",
    "    print('Iterando sobre o arquivo:')\n",
    "    for linha in f:\n",
    "        print(linha.strip())"
   ]
  },
  {
   "cell_type": "markdown",
   "id": "0062c419",
   "metadata": {},
   "source": [
    "## Escrita de Arquivos\n",
    "\n",
    "### Regras e Conceitos Resumidos\n",
    "- **Modo de Escrita(`'w'`):** Abre o arquivo para escrita. Se o arquivo existir, seu conteúdo será **sobrescrito**. Se não existir, um novo arquivo será criado.\n",
    "- **Modo de Anexar(`'a'`):** Abre o arquivo para anexar. Se o arquivo existir, o novo conteúdo será adicionado ao final. Se não existir, um novo arquivo será criado.\n",
    "- **`with open(...) as f:`:** Novamente, a forma recomendada para garantir que o arquivo seja fechado corretamente.\n",
    "- **Métodos de Escrita:**\n",
    "    - `.write(string)`: Escreve a string fornecida no arquivo. Não adiciona automaticamente uma nova linha `(\\n)`, você precisa incluí-la se desejar.\n",
    "    \n",
    "#### Exemplos Práticos"
   ]
  },
  {
   "cell_type": "code",
   "execution_count": null,
   "id": "e7c17c6e",
   "metadata": {},
   "outputs": [
    {
     "name": "stdout",
     "output_type": "stream",
     "text": [
      "Arquivo \"exemplo_escrita.txt\" criado/sobrescrito com sucesso.\n",
      "Conteúdo adicionado a \"exemplo_escrita.txt\" com sucesso\n",
      "Arquivo \"lista_escrita.txt\" criado com lista de linhas.\n",
      "\n",
      "--- Conteúdo de exemplo_escrita.txt ---\n",
      "Esta é a primeira linha.\n",
      "Esta é a segunda linha.\n",
      "Esta é uma linha adicionada.\n",
      "E Esta é outra linha adicionada.\n",
      "\n",
      "\n",
      "--- Conteúdo de lista_escrita.txt ---\n",
      "Linha 1 da lista.\n",
      "Linha 2 da lista.\n",
      "Linha 3 da lista.\n",
      "\n"
     ]
    }
   ],
   "source": [
    "# Exemplo 1: Escrever em um novo arquivo (ou sobrescrever existente)\n",
    "with open('exemplo_escrita.txt', 'w') as f:\n",
    "    f.write('Esta é a primeira linha.\\n')\n",
    "    f.write('Esta é a segunda linha.\\n')\n",
    "    print('Arquivo \"exemplo_escrita.txt\" criado/sobrescrito com sucesso.')\n",
    "print()\n",
    "\n",
    "# Exemplo 2: Anexar conteúdo a um arquivo existente\n",
    "with open('exemplo_escrita.txt', 'a') as f:\n",
    "    f.write('Esta é uma linha adicionada.\\n')\n",
    "    f.write('E Esta é outra linha adicionada.\\n')\n",
    "    print('Conteúdo adicionado a \"exemplo_escrita.txt\" com sucesso')\n",
    "print()\n",
    "\n",
    "# Exemplo 3: Escrever uma lista de linhas\n",
    "linhas_para_escrever = [\n",
    "    \"Linha 1 da lista.\\n\",\n",
    "    \"Linha 2 da lista.\\n\",\n",
    "    \"Linha 3 da lista.\\n\"\n",
    "]\n",
    "\n",
    "with open('lista_escrita.txt', 'w') as f:\n",
    "    f.writelines(linhas_para_escrever)\n",
    "    print('Arquivo \"lista_escrita.txt\" criado com lista de linhas.')\n",
    "\n",
    "# Verificar o conteúdo dos arquivos criados\n",
    "print('\\n--- Conteúdo de exemplo_escrita.txt ---')\n",
    "with open('exemplo_escrita.txt', 'r') as f:\n",
    "    print(f.read())\n",
    "\n",
    "print('\\n--- Conteúdo de lista_escrita.txt ---')\n",
    "with open('lista_escrita.txt', 'r') as f:\n",
    "    print(f.read())"
   ]
  },
  {
   "cell_type": "code",
   "execution_count": null,
   "id": "25bddc56",
   "metadata": {},
   "outputs": [],
   "source": []
  }
 ],
 "metadata": {
  "kernelspec": {
   "display_name": "base",
   "language": "python",
   "name": "python3"
  },
  "language_info": {
   "codemirror_mode": {
    "name": "ipython",
    "version": 3
   },
   "file_extension": ".py",
   "mimetype": "text/x-python",
   "name": "python",
   "nbconvert_exporter": "python",
   "pygments_lexer": "ipython3",
   "version": "3.9.13"
  }
 },
 "nbformat": 4,
 "nbformat_minor": 5
}
