{
 "cells": [
  {
   "cell_type": "markdown",
   "id": "27962211",
   "metadata": {},
   "source": [
    "# Programação Orientada a Objetos (POO) Básica\n",
    "\n",
    "## Classes e Objetos\n",
    "\n",
    "### Regras e Conceitos Resumidos\n",
    "- **POO:** Paradigma de programação que organiza o código em torno de objetos, que são instâncias de classes.\n",
    "- **Classe:** Um molde ou projeto para criar objetos. Define um conjunto de atributos(características) e métodos(comportamentos) que os objetos da classe terão.\n",
    "- **Objeto(Instância):** Uma ocorrência concreta de uma classe. Cada objeto tem seus própios valores para os atributos definidos na classe\n",
    "- **`__init__`(Construtor):** Um metódo especial que é chamado automaticamente quando um novo objeto é criado. É usado para inicializar os atributos do objeto.\n",
    "- **`self`:** O primeiro parâmetro de qualquer método em uma classe. Refere-se à própia instância do objeto, permitindo acessar seus atributos e outros métodos.\n",
    "\n",
    "#### Exemplos Práticos"
   ]
  },
  {
   "cell_type": "code",
   "execution_count": 8,
   "id": "9d1cd3a5",
   "metadata": {},
   "outputs": [
    {
     "name": "stdout",
     "output_type": "stream",
     "text": [
      "Carro 1: Mitsubishi Pajero, 2016\n",
      "Carro 2: Fiat Uno, 2013\n",
      "\n",
      "Modelo de carro1: Pajero\n",
      "Velocidade do carro1: 50\n",
      "\n",
      "O Pajero acelerou para 80km/h.\n",
      "O Uno acelerou para 40km/h.\n",
      "O Pajero freou para 70 km/h.\n"
     ]
    }
   ],
   "source": [
    "# Exemplo 1: Definição de uma Classe Simples\n",
    "class Carro:\n",
    "    def __init__(self, marca, modelo, ano):\n",
    "        self.marca = marca\n",
    "        self.modelo = modelo\n",
    "        self.ano = ano\n",
    "        self.velocidade = 0\n",
    "\n",
    "    def acelerar(self, incremento):\n",
    "        self.velocidade += incremento\n",
    "        print(f'O {self.modelo} acelerou para {self.velocidade}km/h.')\n",
    "    \n",
    "    def frear(self, decremento):\n",
    "        self.velocidade -= decremento\n",
    "        if self.velocidade < 0:\n",
    "            self.velocidade = 0\n",
    "        print(f'O {self.modelo} freou para {self.velocidade} km/h.')\n",
    "\n",
    "# Exemplo 2: Criação de Objetos(Instâncias da Classe)\n",
    "carro1 = Carro('Mitsubishi', 'Pajero', 2016)\n",
    "carro2 = Carro('Fiat', 'Uno', 2013)\n",
    "\n",
    "print(f'Carro 1: {carro1.marca} {carro1.modelo}, {carro1.ano}')\n",
    "print(f'Carro 2: {carro2.marca} {carro2.modelo}, {carro2.ano}')\n",
    "print()\n",
    "\n",
    "# Exemplo 3: Acessando Atributos dos Objetos\n",
    "print(f'Modelo de carro1: {carro1.modelo}')\n",
    "carro1.velocidade = 50 # Atributos podem ser acessados e modificados diretamente\n",
    "print(f'Velocidade do carro1: {carro1.velocidade}')\n",
    "print()\n",
    "\n",
    "# Exemplo 4: Chamando Métodos dos Objetos\n",
    "carro1.acelerar(30)\n",
    "carro2.acelerar(40)\n",
    "carro1.frear(10)"
   ]
  },
  {
   "cell_type": "markdown",
   "id": "e3aceb89",
   "metadata": {},
   "source": [
    "## Métodos\n",
    "\n",
    "### Regras e Conceitos Resumidos\n",
    "- **Método:** Uma função definida dentro de uma classe. Métodos operam sobre os atributos de um objeto.\n",
    "- **`self`:** O primeiro parâmetro de um método, que se refere à instância do objeto que chamou o método. É obrigatório e permite que o método acesse e manipule os atributos específicos daquele objeto.\n",
    "- **Chamada de Método:** Métodos são chamados usando a sintaxe `objeto.nome_do_metodo(argumentos)`.\n",
    "- **Métodos Especiais(Dunder Methods):** Métodos com nomes que começam e terminam com dois underscores(ex:`__init__`, `__str__`). Eles têm comportamentos especiais e são invocados em situações específicas.\n",
    "    - **`__str__`:** Define a representação em string de um objeto, útil para `print()`.\n",
    "\n",
    "#### Exemplos Práticos"
   ]
  },
  {
   "cell_type": "code",
   "execution_count": null,
   "id": "aafc6300",
   "metadata": {},
   "outputs": [
    {
     "name": "stdout",
     "output_type": "stream",
     "text": [
      "Olá, meu nome é Lopes e tenho 27 anos.\n",
      "Feliz aniversário, Lopes! Agora você tem 27 anos.\n",
      "Olá, meu nome é Lopes e tenho 27 anos.\n",
      "Imprimindo o objeto livro: \"O Pequeno Príncipe\" por Antoine de Saint-Exupéry\n",
      "Título: O Pequeno Príncipe, Autor: Antoine de Saint-Exupéry\n"
     ]
    }
   ],
   "source": [
    "# Exemplo 1: Classe com Métodos\n",
    "class Pessoa:\n",
    "    def __init__(self, nome, idade):\n",
    "        self.nome = nome\n",
    "        self.idade = idade\n",
    "\n",
    "    def apresentar(self):\n",
    "        return f'Olá, meu nome é {self.nome} e tenho {self.idade} anos.'\n",
    "\n",
    "    def fazer_aniversario(self):\n",
    "        print(f'Feliz aniversário, {self.nome}! Agora você tem {self.idade} anos.')\n",
    "\n",
    "# Criando um objeto\n",
    "pessoa1 = Pessoa('Lopes', 27)\n",
    "\n",
    "# Chamando métodos\n",
    "print(pessoa1.apresentar())\n",
    "pessoa1.fazer_aniversario()\n",
    "print(pessoa1.apresentar())\n",
    "print()\n",
    "\n",
    "# Exemplo 2: Usando o método especial __str__\n",
    "class Livro:\n",
    "    def __init__(self, titulo, autor):\n",
    "        self.titulo = titulo\n",
    "        self.autor = autor\n",
    "    \n",
    "    def __str__(self):\n",
    "        return f'\"{self.titulo}\" por {self.autor}'\n",
    "    \n",
    "    def get_info(self):\n",
    "        return f'Título: {self.titulo}, Autor: {self.autor}'\n",
    "\n",
    "# Criando um objeto Livro\n",
    "livro1 = Livro('O Pequeno Príncipe', 'Antoine de Saint-Exupéry')\n",
    "\n",
    "# Quando você imprime objeto, __str__ é chamado\n",
    "print(f'Imprimindo o objeto livro: {livro1}')\n",
    "\n",
    "# Chamando outro método\n",
    "print(livro1.get_info())"
   ]
  }
 ],
 "metadata": {
  "kernelspec": {
   "display_name": "base",
   "language": "python",
   "name": "python3"
  },
  "language_info": {
   "codemirror_mode": {
    "name": "ipython",
    "version": 3
   },
   "file_extension": ".py",
   "mimetype": "text/x-python",
   "name": "python",
   "nbconvert_exporter": "python",
   "pygments_lexer": "ipython3",
   "version": "3.9.13"
  }
 },
 "nbformat": 4,
 "nbformat_minor": 5
}
