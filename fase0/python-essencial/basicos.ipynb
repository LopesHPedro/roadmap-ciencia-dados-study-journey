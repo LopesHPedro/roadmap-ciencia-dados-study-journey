{
 "cells": [
  {
   "cell_type": "markdown",
   "id": "b8efa85b",
   "metadata": {},
   "source": [
    "# Sintaxe Básica, Tipos de Dados e \n",
    "\n",
    "### Regras e Conceitos Resumidos\n",
    "- **Sintaxe:** Python usa indentação para definir blocos de código. Quartro espaços são o padrão.\n",
    "- **Comentários:** Use # para comentários de uma linha. ''' ou \"\"\" para cometários de múltiplas linhas(docstrings).\n",
    "- **Variáveis:** Nomes descritivos, sem espaços, sem começar com números. Case-sensitive.\n",
    "- **Tipos de Dados**:\n",
    "    - **Inteiros(int)**: Números inteiros (ex:10, -5).\n",
    "    - **Ponto Flutuante(float)**: Números decimais (ex:3.14, -0.5).\n",
    "    - **Strings(str)**: Texto entre aspas simples(') ou duplas(\").\n",
    "    - **Booleanos(bool)**: True ou False (com a primeira letra maiúscula).\n",
    "- **Operadores Aritméticos:** + (soma), - (subtração), * (multiplicação), /\n",
    "(divisão), % (módulo), ** (potência), // (divisão inteira).\n",
    "- **Operadores de Comparação:** == (igual a), != (diferente de), > (maior que), <\n",
    "(menor que), >= (maior ou igual a), <= (menor ou igual a).• Operadores Lógicos: and (e), or (ou), not (não).\n",
    "\n",
    "#### Exemplos Práticos"
   ]
  },
  {
   "cell_type": "code",
   "execution_count": 7,
   "id": "f2df8ef7",
   "metadata": {},
   "outputs": [
    {
     "name": "stdout",
     "output_type": "stream",
     "text": [
      "Nome: Pedro, Tipo: <class 'str'>\n",
      "Idade: 27, Tipo: <class 'int'>\n",
      "Altura: 1.83, Tipo: <class 'float'>\n",
      "É estudante: True, Tipo: <class 'bool'>\n",
      "\n",
      "Soma: 13\n",
      "Subtração: 7\n",
      "Multiplicação: 30\n",
      "Divisão: 3.3333333333333335\n",
      "Módulo: 1\n",
      "Potência: 1000\n",
      "Divisão Inteira: 3\n",
      "\n",
      "x == y: False\n",
      "x != y: True\n",
      "x < y: True\n",
      "x > y: False\n",
      "x <= y: True\n",
      "x >= y: False\n",
      "\n",
      "p and q: False\n",
      "p or q: True\n",
      "not p: False\n"
     ]
    }
   ],
   "source": [
    "# Exemplo 1: Variáveis e Tipos de Dados\n",
    "nome = 'Pedro'\n",
    "idade = 27\n",
    "altura = 1.83\n",
    "is_estudante = True\n",
    "\n",
    "print(f'Nome: {nome}, Tipo: {type(nome)}')\n",
    "print(f'Idade: {idade}, Tipo: {type(idade)}')\n",
    "print(f'Altura: {altura}, Tipo: {type(altura)}')\n",
    "print(f'É estudante: {is_estudante}, Tipo: {type(is_estudante)}')\n",
    "\n",
    "# Exemplo 1: Operadores Aritméticos\n",
    "a = 10\n",
    "b = 3\n",
    "\n",
    "soma = a + b\n",
    "subtracao = a - b\n",
    "multiplicacao = a * b\n",
    "divisao = a / b\n",
    "modulo = a % b\n",
    "potencia = a ** b\n",
    "divisao_inteira = a // b\n",
    "\n",
    "print(f'\\nSoma: {soma}')\n",
    "print(f'Subtração: {subtracao}')\n",
    "print(f'Multiplicação: {multiplicacao}')\n",
    "print(f'Divisão: {divisao}')\n",
    "print(f'Módulo: {modulo}')\n",
    "print(f'Potência: {potencia}')\n",
    "print(f'Divisão Inteira: {divisao_inteira}')\n",
    "\n",
    "# Exemplo 3: Operadores de Comparação\n",
    "x = 5\n",
    "y = 10\n",
    "\n",
    "print(f'\\nx == y: {x == y}')\n",
    "print(f'x != y: {x != y}')\n",
    "print(f'x < y: {x < y}')\n",
    "print(f'x > y: {x > y}')\n",
    "print(f'x <= y: {x <= y}')\n",
    "print(f'x >= y: {x >= y}')\n",
    "\n",
    "# Exemplo 4: Operadores Lógicos\n",
    "p = True\n",
    "q = False\n",
    "\n",
    "print(f'\\np and q: {p and q}')\n",
    "print(f'p or q: {p or q}')\n",
    "print(f'not p: {not p}')"
   ]
  }
 ],
 "metadata": {
  "kernelspec": {
   "display_name": "base",
   "language": "python",
   "name": "python3"
  },
  "language_info": {
   "name": "python",
   "version": "3.9.13"
  }
 },
 "nbformat": 4,
 "nbformat_minor": 5
}
