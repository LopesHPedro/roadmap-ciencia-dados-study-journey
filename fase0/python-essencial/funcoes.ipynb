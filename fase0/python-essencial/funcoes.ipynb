{
 "cells": [
  {
   "cell_type": "markdown",
   "id": "40f302c3",
   "metadata": {},
   "source": [
    "# Funções\n",
    "\n",
    "## Definição e Argumentos\n",
    "\n",
    "### Regras e Conceitos Resumidos\n",
    "- **Definição:** Um bloco de código reutilizável que executa uma tarefa específica. Ajuda a organizar o código e evitar repetição.\n",
    "- **Sintaxe:** Definida pela palavra-chave `def`, seguida pelo nome da função, parêntese `()` (para argumentos) e dois pontos `:`. O corpo da função é indentado.\n",
    "- **Chamada:** Para usar uma função, chame-a pelo nome seguido de parênteses `()`.\n",
    "- **Argumentos (Parâmetros):** Valores que você passa para a função. Podem ser:\n",
    "    - **Posicionais:** Passados na ordem que são definidos.\n",
    "    - **Nomeados (Keyword Arguments):** Passados usando `nome_parametro=valor`. Permite passar argumnetos em qualquer ordem.\n",
    "    - **Padrão (Default Arguments):** Parâmetros com um valor predefinido. Se nenhum valor for passado, o padrão é usado.\n",
    "- **`return`:** Usado para enviar um valor de volta a função. Se não houver return, a função retorna `None`por padrão.\n",
    "\n",
    "#### Exemplos Práticos"
   ]
  },
  {
   "cell_type": "code",
   "execution_count": null,
   "id": "4c1da48d",
   "metadata": {},
   "outputs": [
    {
     "name": "stdout",
     "output_type": "stream",
     "text": [
      "Olá, mundo!\n",
      "\n",
      "Olá, Alice!\n",
      "\n",
      "A soma é: 8\n",
      "\n",
      "Bem-vindo(a), Visitante!\n",
      "Bem-vindo(a), Bob!\n",
      "\n",
      "Nome: Pedro, Idade: 27, Cidade: Itajubá\n",
      "Nome: Sofia, Idade: 30, Cidade: Belo Horizonte\n"
     ]
    }
   ],
   "source": [
    "# Exemplo 1: Função sem argumentos e sem retorno\n",
    "def saudar():\n",
    "    print('Olá, mundo!')\n",
    "    print()\n",
    "\n",
    "saudar() # Chamando a função\n",
    "\n",
    "# Exemplo 2: Função com um argumento posicional\n",
    "def saudar_nome(nome):\n",
    "    print(f'Olá, {nome}!')\n",
    "    print()\n",
    "\n",
    "saudar_nome('Alice')\n",
    "\n",
    "# Exemplo 3: Função com múltiplos argumentos e retorno\n",
    "def somar(a, b):\n",
    "    resultado = a + b\n",
    "    return resultado\n",
    "\n",
    "soma = somar(5, 3)\n",
    "print(f'A soma é: {soma}')\n",
    "print()\n",
    "\n",
    "# Exemplo 4: Função com argumento padrão\n",
    "def boas_vindas(nome='Visitante'):\n",
    "    print(f'Bem-vindo(a), {nome}!')\n",
    "\n",
    "boas_vindas() # Usa o valor padrão\n",
    "boas_vindas('Bob') # Sobrescreve o valor padrão\n",
    "print()\n",
    "\n",
    "# Exemplo 5: Argumentos nomeados (keywords arguments)\n",
    "def criar_perfil(nome, idade, cidade):\n",
    "    print(f'\\nNome: {nome}, Idade: {idade}, Cidade: {cidade}')\n",
    "\n",
    "# Chamada com argumentos posicionais\n",
    "criar_perfil('Pedro', 27, 'Itajubá')\n",
    "\n",
    "# Chamada com argumentos nomeados (ordem não importa)\n",
    "criar_perfil(idade=30, nome='Sofia', cidade='Belo Horizonte')"
   ]
  },
  {
   "cell_type": "markdown",
   "id": "42e2770f",
   "metadata": {},
   "source": [
    "## Escopo de Variáveis\n",
    "\n",
    "### Regras e Conceitos\n",
    "- **Escopo Local:** Variáveis definidas dentor de uma função são locais a essa função. Eles só existem enquanto a função está sendo executada e não podem ser acessadas de fora dela.\n",
    "- **Escopo Global:** Variáveis definidas fora de qualquer função(no nível principal do script) são globais. Elas podem ser acessadas de qualquer lugar no código.\n",
    "- **`global` palavra-chave:** Para modificar uma variável global dentro de uma função, você deve usar a palavra-chave `global` antes do nome da variável. Caso contrário, Python criará uma nova variável local com o mesmo nome.\n",
    "- **LEGB Rule:** Python resolve o escopo de variáveis na seguinte ordem: Local, Enclosing function locals, Global, Built-in.\n",
    "\n",
    "#### Exemplos Práticos"
   ]
  },
  {
   "cell_type": "code",
   "execution_count": null,
   "id": "6f284ba3",
   "metadata": {},
   "outputs": [
    {
     "name": "stdout",
     "output_type": "stream",
     "text": [
      "Dentro da função (local): 10\n",
      "Erro: name 'x' is not defined\n",
      "\n",
      "Dentro da função (global): 20\n",
      "Fora da função (global): 20\n",
      "\n",
      "Antes da função (global): 30\n",
      "Dentro da função (modificada global): 40\n",
      "Depois da função (global): 40\n",
      "\n",
      "Antes da função (global \"a\"): 50\n",
      "Dentro da função (local \"a\"): 60\n",
      "Depois da função (global \"a\" permanece): 50\n"
     ]
    }
   ],
   "source": [
    "# Exemplo 1: Escopo Local\n",
    "def minha_funcao():\n",
    "    x = 10 # Variável local \n",
    "    print(f'Dentro da função (local): {x}')\n",
    "\n",
    "minha_funcao()\n",
    "try:\n",
    "    print(x) # Causa erro pois x é local a função\n",
    "except Exception as error:\n",
    "    print(f'Erro: {error}') \n",
    "\n",
    "# Exemplo 2: Escopo Global\n",
    "y = 20 # Variável global\n",
    "\n",
    "def outra_funcao():\n",
    "    print(f'\\nDentro da função (global): {y}') # Acessando a variável global\n",
    "\n",
    "outra_funcao()\n",
    "print(f'Fora da função (global): {y}')\n",
    "\n",
    "# Exemplo 3: Modificando uma variável global (usando 'global')\n",
    "z = 30\n",
    "\n",
    "def modificar_global():\n",
    "    global z # Delcara que estamos usando a variável global z\n",
    "    z = 40 # Modifica a variável global\n",
    "    print(f'Dentro da função (modificada global): {z}')\n",
    "\n",
    "print(f'\\nAntes da função (global): {z}')\n",
    "modificar_global()\n",
    "print(f'Depois da função (global): {z}')\n",
    "\n",
    "# Exemplo 4: Variável local com o mesmo nome da global (sem 'global')\n",
    "a = 50\n",
    "\n",
    "def testar_escopo():\n",
    "    a = 60 # Cria uma nova variável local 'a'\n",
    "    print(f'Dentro da função (local \"a\"): {a}')\n",
    "\n",
    "print(f'\\nAntes da função (global \"a\"): {a}')\n",
    "testar_escopo()\n",
    "print(f'Depois da função (global \"a\" permanece): {a}')"
   ]
  }
 ],
 "metadata": {
  "kernelspec": {
   "display_name": "base",
   "language": "python",
   "name": "python3"
  },
  "language_info": {
   "codemirror_mode": {
    "name": "ipython",
    "version": 3
   },
   "file_extension": ".py",
   "mimetype": "text/x-python",
   "name": "python",
   "nbconvert_exporter": "python",
   "pygments_lexer": "ipython3",
   "version": "3.9.13"
  }
 },
 "nbformat": 4,
 "nbformat_minor": 5
}
